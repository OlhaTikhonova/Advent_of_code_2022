{
 "cells": [
  {
   "cell_type": "code",
   "execution_count": 57,
   "id": "bdbbbe4e",
   "metadata": {},
   "outputs": [
    {
     "name": "stdout",
     "output_type": "stream",
     "text": [
      "1807\n"
     ]
    }
   ],
   "source": [
    "#Part1 \n",
    "with open('input_D8.txt','r') as file:\n",
    "    (x,y)=(0,0)\n",
    "    canvas= dict()\n",
    "    file_content=file.readline().strip()\n",
    "    while file_content:\n",
    "        #print(file_content)\n",
    "        for num in file_content:\n",
    "            canvas[(x,y)] = int(num)\n",
    "            \n",
    "            x+=1\n",
    "        y+=1\n",
    "        x=0\n",
    "        file_content=file.readline().strip()\n",
    "#print(canvas)\n",
    "max_x=max(canvas.keys(), key=lambda x: x[0])[0]\n",
    "max_y=max(canvas.keys(), key=lambda y: y[1])[1]\n",
    "\n",
    "def visible(p):\n",
    "    (x,y) = p\n",
    "    \n",
    "    neigbor_height_list=[]\n",
    "    for i in range(0,x):\n",
    "        neigbor_height=canvas[(i,y)]\n",
    "        neigbor_height_list.append(neigbor_height)  \n",
    "    if max(neigbor_height_list) < canvas[(x,y)]:\n",
    "        return True\n",
    "    \n",
    "    neigbor_height_list=[]\n",
    "    for i in range(x+1,max_x+1):\n",
    "        neigbor_height=canvas[(i,y)]\n",
    "        neigbor_height_list.append(neigbor_height) \n",
    "    if max(neigbor_height_list) < canvas[(x,y)]:\n",
    "        return True\n",
    "    \n",
    "    neigbor_height_list=[]\n",
    "    for i in range(0,y):\n",
    "        neigbor_height=canvas[(x,i)]\n",
    "        neigbor_height_list.append(neigbor_height)\n",
    "    if max(neigbor_height_list) < canvas[(x,y)]:\n",
    "        return True\n",
    "        \n",
    "    neigbor_height_list=[]\n",
    "    for i in range(y+1,max_y+1):\n",
    "        neigbor_height=canvas[(x,i)]\n",
    "        neigbor_height_list.append(neigbor_height)\n",
    "    if max(neigbor_height_list) < canvas[(x,y)]:\n",
    "        return True\n",
    "   \n",
    "    return False\n",
    "\n",
    "count=0\n",
    "for (x,y), value in canvas.items():\n",
    "    if x==0 or y==0 or x==max_x or y==max_y or visible((x,y)):\n",
    "        count+=1\n",
    "print(count)\n",
    "            "
   ]
  },
  {
   "cell_type": "code",
   "execution_count": 41,
   "id": "73116c3c",
   "metadata": {},
   "outputs": [
    {
     "data": {
      "text/plain": [
       "True"
      ]
     },
     "execution_count": 41,
     "metadata": {},
     "output_type": "execute_result"
    }
   ],
   "source": []
  },
  {
   "cell_type": "code",
   "execution_count": null,
   "id": "65bf35b9",
   "metadata": {},
   "outputs": [],
   "source": []
  }
 ],
 "metadata": {
  "kernelspec": {
   "display_name": "Python 3 (ipykernel)",
   "language": "python",
   "name": "python3"
  },
  "language_info": {
   "codemirror_mode": {
    "name": "ipython",
    "version": 3
   },
   "file_extension": ".py",
   "mimetype": "text/x-python",
   "name": "python",
   "nbconvert_exporter": "python",
   "pygments_lexer": "ipython3",
   "version": "3.9.15"
  }
 },
 "nbformat": 4,
 "nbformat_minor": 5
}
