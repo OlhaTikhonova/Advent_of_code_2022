{
 "cells": [
  {
   "cell_type": "code",
   "execution_count": 1,
   "id": "006e0368",
   "metadata": {},
   "outputs": [
    {
     "name": "stdout",
     "output_type": "stream",
     "text": [
      "['1000', '2000', '3000', '', '4000', '', '5000', '6000', '', '7000', '8000', '9000', '', '10000']\n",
      "[6000, 4000, 11000, 24000, 10000]\n",
      "24000\n",
      "[24000, 11000, 10000, 6000, 4000]\n",
      "45000\n"
     ]
    }
   ],
   "source": [
    "#Day1_test\n",
    "#1st part\n",
    "input_data1=open('input_D1_test.txt','r')\n",
    "input_numbers=input_data1.read().strip().split('\\n')\n",
    "input_data1.close()\n",
    "print(input_numbers)\n",
    "\n",
    "input_numbers.append('')\n",
    "calories_list=[]\n",
    "total_cal_of_one=0\n",
    "for (i) in range (len(input_numbers)):\n",
    "    if input_numbers[i]!= '':\n",
    "        total_cal_of_one+= int(input_numbers[i])\n",
    "        \n",
    "    else: \n",
    "        calories_list.append(total_cal_of_one)\n",
    "        total_cal_of_one=0\n",
    "print(calories_list)\n",
    "\n",
    "maximum_cal= max(calories_list)\n",
    "print (maximum_cal)\n",
    "#2nd Part\n",
    "calories_list.sort(reverse=True)\n",
    "print (calories_list)\n",
    "total_Elf_cal= sum(calories_list[0:3])\n",
    "print(total_Elf_cal)"
   ]
  },
  {
   "cell_type": "code",
   "execution_count": 2,
   "id": "97be55a4",
   "metadata": {},
   "outputs": [
    {
     "name": "stdout",
     "output_type": "stream",
     "text": [
      "74394\n",
      "212836\n"
     ]
    }
   ],
   "source": [
    "#Day1_mine\n",
    "input_data1=open('input_D1.txt','r')\n",
    "input_numbers=input_data1.read().strip().split('\\n')\n",
    "input_data1.close()\n",
    "#print(input_numbers)\n",
    "\n",
    "input_numbers.append('')\n",
    "calories_list=[]\n",
    "total_cal_of_one=0\n",
    "for (i) in range (len(input_numbers)):\n",
    "    if input_numbers[i]!= '':\n",
    "        total_cal_of_one+= int(input_numbers[i])\n",
    "        \n",
    "    else: \n",
    "        calories_list.append(total_cal_of_one)\n",
    "        total_cal_of_one=0\n",
    "#print(calories_list)\n",
    "\n",
    "maximum_cal= max(calories_list)\n",
    "print (maximum_cal)\n",
    "#2nd Part\n",
    "calories_list.sort(reverse=True)\n",
    "#print (calories_list)\n",
    "total_Elf_cal= sum(calories_list[0:3])\n",
    "print(total_Elf_cal)\n",
    "    "
   ]
  },
  {
   "cell_type": "code",
   "execution_count": null,
   "id": "5e26c548",
   "metadata": {},
   "outputs": [],
   "source": []
  }
 ],
 "metadata": {
  "kernelspec": {
   "display_name": "Python 3 (ipykernel)",
   "language": "python",
   "name": "python3"
  },
  "language_info": {
   "codemirror_mode": {
    "name": "ipython",
    "version": 3
   },
   "file_extension": ".py",
   "mimetype": "text/x-python",
   "name": "python",
   "nbconvert_exporter": "python",
   "pygments_lexer": "ipython3",
   "version": "3.9.15"
  }
 },
 "nbformat": 4,
 "nbformat_minor": 5
}
