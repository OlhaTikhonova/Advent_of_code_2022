{
 "cells": [
  {
   "cell_type": "code",
   "execution_count": 3,
   "id": "099b28bd",
   "metadata": {},
   "outputs": [
    {
     "name": "stdout",
     "output_type": "stream",
     "text": [
      "11475\n"
     ]
    }
   ],
   "source": [
    "#Day2\n",
    "#1st part\n",
    "input_data1=open('input_D2.txt','r')\n",
    "input_letters=input_data1.read().strip().split('\\n')\n",
    "input_data1.close()\n",
    "#print(input_letters)\n",
    "total_score=0\n",
    "opponent = {\n",
    "    \"A\": 1,\n",
    "    \"B\": 2,\n",
    "    \"C\": 3\n",
    "}\n",
    "you = {\n",
    "    \"X\": 1,\n",
    "    \"Y\": 2,\n",
    "    \"Z\": 3\n",
    "}\n",
    "wins = {\n",
    "    (3,1),\n",
    "    (2,3),\n",
    "    (1,2)\n",
    "}\n",
    "for i in range(len(input_letters)):\n",
    "    op, _, me = input_letters[i]\n",
    "    x = opponent[op]   \n",
    "    y = you[me]\n",
    "\n",
    "    #Round score\n",
    "    if (x,y) in wins:\n",
    "        total_score += 6 + y\n",
    "    elif x==y:\n",
    "        total_score += 3 + y\n",
    "    else:\n",
    "        total_score +=  y\n",
    "print(total_score)"
   ]
  },
  {
   "cell_type": "code",
   "execution_count": 4,
   "id": "0d7629ad",
   "metadata": {},
   "outputs": [
    {
     "name": "stdout",
     "output_type": "stream",
     "text": [
      "12\n"
     ]
    }
   ],
   "source": [
    "#2nd part_test\n",
    "input_data1=open('input_D2_test.txt','r')\n",
    "input_letters=input_data1.read().strip().split('\\n')\n",
    "input_data1.close()\n",
    "#print(input_letters)\n",
    "(x,y)=(0,0)\n",
    "my_bet=0\n",
    "total_score=0\n",
    "for i in range(len(input_letters)):\n",
    "    op, _, me = input_letters[i]\n",
    "    #Oponent\n",
    "    if op=='A':\n",
    "        x=1\n",
    "    elif op=='B':\n",
    "        x=2\n",
    "    elif op=='C':\n",
    "        x=3\n",
    "    # You   \n",
    "    if me=='X':\n",
    "        y=0\n",
    "    elif me=='Y':\n",
    "        y=3\n",
    "    elif me=='Z':\n",
    "        y=6\n",
    "    #print((x,y))\n",
    "    t = {\n",
    "        (0, 1): 3,\n",
    "        (0, 2): 1,\n",
    "        (0, 3): 2,\n",
    "        (3, 1): 1+3,\n",
    "        (3, 2): 2+3,\n",
    "        (3, 3): 3+3,\n",
    "        (6, 1): 2+6,\n",
    "        (6, 2): 3+6,\n",
    "        (6, 3): 1+6,\n",
    "    }\n",
    "    total_score += t[(y,x)]\n",
    "print(total_score)        "
   ]
  },
  {
   "cell_type": "code",
   "execution_count": 5,
   "id": "64a1b882",
   "metadata": {},
   "outputs": [
    {
     "name": "stdout",
     "output_type": "stream",
     "text": [
      "16862\n"
     ]
    }
   ],
   "source": [
    "#2nd part\n",
    "input_data1=open('input_D2.txt','r')\n",
    "input_letters=input_data1.read().strip().split('\\n')\n",
    "input_data1.close()\n",
    "#print(input_letters)\n",
    "(x,y)=(0,0)\n",
    "my_bet=0\n",
    "total_score=0\n",
    "\n",
    "for i in range(len(input_letters)):\n",
    "    #Oponent\n",
    "    if input_letters[i][0]=='A':\n",
    "        x=1\n",
    "    elif input_letters[i][0]=='B':\n",
    "        x=2\n",
    "    elif input_letters[i][0]=='C':\n",
    "        x=3\n",
    "    # You   \n",
    "    if input_letters[i][2]=='X':\n",
    "        y=0\n",
    "    elif input_letters[i][2]=='Y':\n",
    "        y=3\n",
    "    elif input_letters[i][2]=='Z':\n",
    "        y=6\n",
    "    #print((x,y))\n",
    "    if y== 0:\n",
    "        if x==1:\n",
    "            my_bet=3\n",
    "        elif x==2:\n",
    "            my_bet=1\n",
    "        elif x==3:\n",
    "            my_bet=2    \n",
    "    elif y== 3:\n",
    "        my_bet=x \n",
    "    elif y== 6:\n",
    "        if x==1:\n",
    "            my_bet=2\n",
    "        elif x==2:\n",
    "            my_bet=3\n",
    "        elif x==3:\n",
    "            my_bet=1\n",
    "    total_score+=y+my_bet\n",
    "print(total_score)    "
   ]
  },
  {
   "cell_type": "code",
   "execution_count": null,
   "id": "0fb84e45",
   "metadata": {},
   "outputs": [],
   "source": []
  }
 ],
 "metadata": {
  "kernelspec": {
   "display_name": "Python 3 (ipykernel)",
   "language": "python",
   "name": "python3"
  },
  "language_info": {
   "codemirror_mode": {
    "name": "ipython",
    "version": 3
   },
   "file_extension": ".py",
   "mimetype": "text/x-python",
   "name": "python",
   "nbconvert_exporter": "python",
   "pygments_lexer": "ipython3",
   "version": "3.9.15"
  }
 },
 "nbformat": 4,
 "nbformat_minor": 5
}
