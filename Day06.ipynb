{
 "cells": [
  {
   "cell_type": "code",
   "execution_count": 31,
   "id": "7eb0199e",
   "metadata": {},
   "outputs": [],
   "source": [
    "#Part1 \n",
    "input_data=open('input_D6.txt','r')\n",
    "input_num=input_data.read()\n",
    "#print(input_num)\n",
    "input_data.close()\n",
    "input_list=[num for num in input_num]\n",
    "#print(input_list)\n"
   ]
  },
  {
   "cell_type": "code",
   "execution_count": 26,
   "id": "9f356c87",
   "metadata": {},
   "outputs": [],
   "source": [
    "input_list=\"nznrnfrfntjfmvfwmzdfjlvtqnbhcprsg\""
   ]
  },
  {
   "cell_type": "code",
   "execution_count": 32,
   "id": "e97ad9da",
   "metadata": {},
   "outputs": [
    {
     "name": "stdout",
     "output_type": "stream",
     "text": [
      "{'v', 'h', 'q', 't'}\n",
      "1155\n"
     ]
    }
   ],
   "source": [
    "chunks = [set(input_list[x:x+4]) for x in range(0, len(input_list), 1)]\n",
    "#print(chunks)\n",
    "for pair in chunks:\n",
    "    if len(pair)==4:\n",
    "        print(pair)\n",
    "        indexnum=chunks.index(pair)\n",
    "        print(indexnum+4)\n",
    "        break"
   ]
  },
  {
   "cell_type": "code",
   "execution_count": 30,
   "id": "bd8e070d",
   "metadata": {},
   "outputs": [
    {
     "name": "stdout",
     "output_type": "stream",
     "text": [
      "{'j', 'n', 'd', 'v', 'h', 'p', 't', 's', 'f', 'g', 'r', 'z', 'q', 'b'}\n",
      "2789\n"
     ]
    }
   ],
   "source": [
    "chunks = [set(input_list[x:x+14]) for x in range(0, len(input_list), 1)]\n",
    "#print(chunks)\n",
    "for pair in chunks:\n",
    "    if len(pair)==14:\n",
    "        print(pair)\n",
    "        indexnum=chunks.index(pair)\n",
    "        print(indexnum+14)\n",
    "        break"
   ]
  },
  {
   "cell_type": "code",
   "execution_count": null,
   "id": "0e143a64",
   "metadata": {},
   "outputs": [],
   "source": []
  }
 ],
 "metadata": {
  "kernelspec": {
   "display_name": "Python 3 (ipykernel)",
   "language": "python",
   "name": "python3"
  },
  "language_info": {
   "codemirror_mode": {
    "name": "ipython",
    "version": 3
   },
   "file_extension": ".py",
   "mimetype": "text/x-python",
   "name": "python",
   "nbconvert_exporter": "python",
   "pygments_lexer": "ipython3",
   "version": "3.9.15"
  }
 },
 "nbformat": 4,
 "nbformat_minor": 5
}
