{
 "cells": [
  {
   "cell_type": "code",
   "execution_count": 1,
   "id": "3746e5f8",
   "metadata": {},
   "outputs": [],
   "source": [
    "#1st part_my\n",
    "input_data1=open('input_D3.txt','r')\n",
    "input_letters=input_data1.read().strip().split('\\n')\n",
    "input_data1.close()\n",
    "#print(input_letters)"
   ]
  },
  {
   "cell_type": "code",
   "execution_count": 2,
   "id": "7e5042e3",
   "metadata": {},
   "outputs": [
    {
     "name": "stdout",
     "output_type": "stream",
     "text": [
      "7811\n"
     ]
    }
   ],
   "source": [
    "import string\n",
    "priority=0\n",
    "for backpack_items in input_letters:\n",
    "    first_comp=backpack_items[0:int(len(backpack_items)/2)]\n",
    "    second_comp=backpack_items[int(len(backpack_items)/2):]\n",
    "    #print(first_comp,second_comp)\n",
    "    common_item=list(set(first_comp).intersection(second_comp))\n",
    "    common_letter=common_item[0]\n",
    "    #print(common_letter)\n",
    "    alphabet_low = list(string.ascii_lowercase)\n",
    "    alphabet_up=list(string.ascii_uppercase)\n",
    "    for lowcase in alphabet_low:\n",
    "        if lowcase== common_letter:\n",
    "            priority+=(alphabet_low.index(lowcase)+1)    \n",
    "            #print(priority)\n",
    "    for upcase in alphabet_up:\n",
    "        if upcase== common_letter:\n",
    "            priority+=(alphabet_up.index(upcase)+27)  \n",
    "print(priority)"
   ]
  },
  {
   "cell_type": "code",
   "execution_count": 3,
   "id": "5a15f7a4",
   "metadata": {},
   "outputs": [
    {
     "name": "stdout",
     "output_type": "stream",
     "text": [
      "2639\n"
     ]
    }
   ],
   "source": [
    "#2nd part\n",
    "chunks = [input_letters[x:x+3] for x in range(0, len(input_letters), 3)]\n",
    "#print(chunks)\n",
    "priority=0\n",
    "alphabet_low = list(string.ascii_lowercase)\n",
    "alphabet_up=list(string.ascii_uppercase)\n",
    "for a,b,c in chunks:\n",
    "    a=[*a]\n",
    "    b=[*b]\n",
    "    c=[*c]\n",
    "    common_letter=set(a).intersection(b, c)\n",
    "    #print(common_letter)\n",
    "\n",
    "    for lowcase in alphabet_low:\n",
    "        if lowcase in common_letter:\n",
    "            priority+=(alphabet_low.index(lowcase)+1)    \n",
    "            #print(priority)\n",
    "    for upcase in alphabet_up:\n",
    "        if upcase in common_letter:\n",
    "            priority+=(alphabet_up.index(upcase)+27)  \n",
    "print(priority)"
   ]
  },
  {
   "cell_type": "code",
   "execution_count": 4,
   "id": "8c355563",
   "metadata": {},
   "outputs": [
    {
     "name": "stdout",
     "output_type": "stream",
     "text": [
      "['vJrwpWtwJgWrhcsFMMfFFhFp', 'jqHRNqRjqzjGDLGLrsFMfFZSrLrFZsSL', 'PmmdzqPrVvPwwTWBwg', 'wMqvLMZHhHMvwLHjbvcjnnSBnvTQFn', 'ttgJtRGJQctTZtZT', 'CrZsJsPPZsGzwwsLwLmpwMDw']\n"
     ]
    }
   ],
   "source": [
    "#Day2\n",
    "#1st part_test\n",
    "input_data1=open('input_D3_test.txt','r')\n",
    "input_letters=input_data1.read().strip().split('\\n')\n",
    "input_data1.close()\n",
    "print(input_letters)"
   ]
  },
  {
   "cell_type": "code",
   "execution_count": null,
   "id": "c1707141",
   "metadata": {},
   "outputs": [],
   "source": []
  }
 ],
 "metadata": {
  "kernelspec": {
   "display_name": "Python 3 (ipykernel)",
   "language": "python",
   "name": "python3"
  },
  "language_info": {
   "codemirror_mode": {
    "name": "ipython",
    "version": 3
   },
   "file_extension": ".py",
   "mimetype": "text/x-python",
   "name": "python",
   "nbconvert_exporter": "python",
   "pygments_lexer": "ipython3",
   "version": "3.9.15"
  }
 },
 "nbformat": 4,
 "nbformat_minor": 5
}
