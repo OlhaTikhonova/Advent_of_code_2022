{
 "cells": [
  {
   "cell_type": "code",
   "execution_count": 22,
   "id": "38544035",
   "metadata": {},
   "outputs": [
    {
     "name": "stdout",
     "output_type": "stream",
     "text": [
      "2-4,6-8\n"
     ]
    }
   ],
   "source": [
    "#Part1 \n",
    "input_data=open('input_D4_test.txt','r')\n",
    "input_num=input_data.read().strip().split('\\n')\n",
    "input_data.close()\n",
    "input_list=[num for num in input_num]\n",
    "print(input_list[0])\n"
   ]
  },
  {
   "cell_type": "code",
   "execution_count": 24,
   "id": "a35b78f4",
   "metadata": {},
   "outputs": [
    {
     "name": "stdout",
     "output_type": "stream",
     "text": [
      "24-66,23-25\n"
     ]
    }
   ],
   "source": [
    "#Part1 \n",
    "input_data=open('input_D4.txt','r')\n",
    "input_num=input_data.read().strip().split('\\n')\n",
    "input_data.close()\n",
    "input_list=[num for num in input_num]\n",
    "print(input_list[0])"
   ]
  },
  {
   "cell_type": "code",
   "execution_count": 27,
   "id": "4125612d",
   "metadata": {},
   "outputs": [
    {
     "name": "stdout",
     "output_type": "stream",
     "text": [
      "518\n"
     ]
    }
   ],
   "source": [
    "#part_1  \n",
    "count=0\n",
    "line_parts=[]\n",
    "lines=[]\n",
    "for line in input_list:\n",
    "    division_index= line.index(',')\n",
    "    line_first_pair=line[:division_index]\n",
    "    line_second_pair=line[division_index +1:]\n",
    "    #print(line_first_pair,line_second_pair)\n",
    "    separator1=line_first_pair.index('-')\n",
    "    range_begin1=int(line_first_pair[:separator1])\n",
    "    range_end1=int(line_first_pair[separator1+1:])\n",
    "    separator2=line_second_pair.index('-')\n",
    "    range_begin2=int(line_second_pair[:separator2])\n",
    "    range_end2=int(line_second_pair[separator2+1:])\n",
    "    #print('(range_begin,range_end):',(range_begin1,range_end1),(range_begin2,range_end2))\n",
    "    first_range_ln=len([*range(range_begin1,range_end1+1)])\n",
    "    second_range_ln=len([*range(range_begin2,range_end2+1)])\n",
    "    intersect_len = len(list(set(range(range_begin1,range_end1+1)) & set(range(range_begin2,range_end2+1))))\n",
    "    if first_range_ln == intersect_len or second_range_ln == intersect_len:\n",
    "        count+=1\n",
    "print(count)"
   ]
  },
  {
   "cell_type": "code",
   "execution_count": 26,
   "id": "e2f97f3c",
   "metadata": {},
   "outputs": [
    {
     "name": "stdout",
     "output_type": "stream",
     "text": [
      "909\n"
     ]
    }
   ],
   "source": [
    "\n",
    "count=0\n",
    "line_parts=[]\n",
    "lines=[]\n",
    "for line in input_list:\n",
    "    division_index= line.index(',')\n",
    "    line_first_pair=line[:division_index]\n",
    "    line_second_pair=line[division_index +1:]\n",
    "    #print(line_first_pair,line_second_pair)\n",
    "    separator1=line_first_pair.index('-')\n",
    "    range_begin1=int(line_first_pair[:separator1])\n",
    "    range_end1=int(line_first_pair[separator1+1:])\n",
    "    separator2=line_second_pair.index('-')\n",
    "    range_begin2=int(line_second_pair[:separator2])\n",
    "    range_end2=int(line_second_pair[separator2+1:])\n",
    "    #print('(range_begin,range_end):',(range_begin1,range_end1),(range_begin2,range_end2))\n",
    "    first_range_ln=len([*range(range_begin1,range_end1+1)])\n",
    "    second_range_ln=len([*range(range_begin2,range_end2+1)])\n",
    "    intersect_len = len(list(set(range(range_begin1,range_end1+1)) & set(range(range_begin2,range_end2+1))))\n",
    "    if intersect_len>0:\n",
    "        count+=1\n",
    "print(count)"
   ]
  },
  {
   "cell_type": "code",
   "execution_count": null,
   "id": "bab27200",
   "metadata": {},
   "outputs": [],
   "source": []
  }
 ],
 "metadata": {
  "kernelspec": {
   "display_name": "Python 3 (ipykernel)",
   "language": "python",
   "name": "python3"
  },
  "language_info": {
   "codemirror_mode": {
    "name": "ipython",
    "version": 3
   },
   "file_extension": ".py",
   "mimetype": "text/x-python",
   "name": "python",
   "nbconvert_exporter": "python",
   "pygments_lexer": "ipython3",
   "version": "3.9.15"
  }
 },
 "nbformat": 4,
 "nbformat_minor": 5
}
